{
 "cells": [
  {
   "cell_type": "markdown",
   "metadata": {},
   "source": [
    "# Vector Semantics and Embeddings\n",
    "\n",
    "> Words are meaning. Once you get the meaning, you can forget the words. - Zhuangzi\n",
    "\n",
    "## Introduction\n",
    "The quote above summarises the intent behind this notebook. We will explore the \"meaning\" of words from a computational perspective, showing different representations of words used in NLP. \n",
    "\n",
    "*Content is mostly extrapolated from [SLP Chapter 6](https://web.stanford.edu/~jurafsky/slp3/slides/6_Vector_Apr18_2021.pdf) , with some additions from my notes from Prof Mark Hasegawa-Johnson's CS 440 course at UIUC.*"
   ]
  },
  {
   "cell_type": "code",
   "execution_count": null,
   "metadata": {},
   "outputs": [],
   "source": [
    "# Import libraries\n",
    "import pandas as pd\n",
    "import numpy as np\n",
    "import matplotlib.pyplot as plt"
   ]
  },
  {
   "cell_type": "markdown",
   "metadata": {},
   "source": [
    "## Lexical Semantics\n",
    "### What is a word?\n",
    "Wordform: a string of characters with a space on either side.\n",
    "Lemma: What we think of as the \"word\" (e.g. \"go\" is the lemma of \"goes\", \"went\", \"gone\", etc.)\n",
    "Wordsense: a particular meaning of a word (e.g. \"go\" as in \"go to the store\" vs. \"go\" as in \"go away\")\n",
    "\n",
    "### Relation between wordsenses: \n",
    "\n",
    "#### Synonymy\n",
    "As seen earlier, the same lemma can have multiple wordsenses. From a computational perspective, how does one then differentiate between \n",
    "* \"go to the store\" and \"go away\"?\n",
    "* \"go to the store\" and \"walk to the store\"?\n",
    "\n",
    "Synonymy: Words with the same meaning.\n",
    "\n",
    "Similarity: Words with similar meanings, $0 ≤ 𝑠(𝑤_1, 𝑤_2) ≤ 1$\n",
    "- $𝑠(𝑤_1, 𝑤_2) = 0$: words are completely different\n",
    "- $𝑠(𝑤_1, 𝑤_2) = 1$: words are perfect synonyms\n",
    "\n",
    "<img src=\"assets/image.png\" alt=\"Asking humans how similar words are\" width=\"50%\" align=\"center\">\n",
    "\n",
    "\n",
    "#### Relatedness\n",
    "Also known as \"association\". Words that are related to each other, but not necessarily synonyms. For example, \"car\" and \"road\" are related, but not synonyms. These words are often found in the same context."
   ]
  },
  {
   "cell_type": "markdown",
   "metadata": {},
   "source": [
    "## Vector Semantics\n",
    "*Computational representations of words*\n",
    "\n",
    "**Embeddings**: words represented as vectors in a high-dimensional space. Used as meaning of word in all modern NLP systems."
   ]
  },
  {
   "cell_type": "markdown",
   "metadata": {},
   "source": [
    "### TF-IDF\n",
    "*Term Frequency - Inverse Document Frequency*\n",
    "\n",
    "First, some context: the meaning of a word can be derived from the context it is used in.\n",
    "1. Term Document Matrix: a matrix of word counts in a document. Each row is a document, each column is a word, and each cell is the count of that word in that document.\n",
    "2. Term Context Matrix: a matrix of word counts in a context window. Each row is a word, each column is a word, and each cell is the count of that word in the context window of the row word."
   ]
  },
  {
   "cell_type": "code",
   "execution_count": null,
   "metadata": {},
   "outputs": [],
   "source": [
    "# Term document matrix\n",
    "\n"
   ]
  },
  {
   "cell_type": "code",
   "execution_count": null,
   "metadata": {},
   "outputs": [],
   "source": []
  },
  {
   "cell_type": "markdown",
   "metadata": {},
   "source": [
    "### Word2Vec"
   ]
  },
  {
   "cell_type": "code",
   "execution_count": null,
   "metadata": {},
   "outputs": [],
   "source": []
  }
 ],
 "metadata": {
  "kernelspec": {
   "display_name": "Python 3",
   "language": "python",
   "name": "python3"
  },
  "language_info": {
   "codemirror_mode": {
    "name": "ipython",
    "version": 3
   },
   "file_extension": ".py",
   "mimetype": "text/x-python",
   "name": "python",
   "nbconvert_exporter": "python",
   "pygments_lexer": "ipython3",
   "version": "3.8.17"
  },
  "orig_nbformat": 4
 },
 "nbformat": 4,
 "nbformat_minor": 2
}
